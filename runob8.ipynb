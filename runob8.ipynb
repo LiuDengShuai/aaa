{
 "cells": [
  {
   "cell_type": "code",
   "execution_count": 1,
   "id": "ab971b1c-775e-45dc-9c40-a32862564a6e",
   "metadata": {},
   "outputs": [
    {
     "name": "stdout",
     "output_type": "stream",
     "text": [
      "x = 10,y = 20\n",
      "x = 20,y = 10\n"
     ]
    }
   ],
   "source": [
    "def exchange(a,b):\n",
    "    a,b = b,a\n",
    "    return (a,b)\n",
    " \n",
    "if __name__ == '__main__':\n",
    "    x = 10\n",
    "    y = 20\n",
    "    print ('x = %d,y = %d' % (x,y))\n",
    "    x,y = exchange(x,y)\n",
    "    print ('x = %d,y = %d' % (x,y))"
   ]
  },
  {
   "cell_type": "code",
   "execution_count": 3,
   "id": "bdd40894-edc8-4193-998d-3601670d11e1",
   "metadata": {},
   "outputs": [
    {
     "name": "stdout",
     "output_type": "stream",
     "text": [
      "10 小于 20\n"
     ]
    }
   ],
   "source": [
    "if __name__ == '__main__':\n",
    "    i = 10\n",
    "    j = 20\n",
    "    if i > j:\n",
    "        print ('%d 大于 %d' % (i,j))\n",
    "    elif i == j:\n",
    "        print ('%d 等于 %d' % (i,j))\n",
    "    elif i < j:\n",
    "        print ('%d 小于 %d' % (i,j))\n",
    "    else:\n",
    "        print ('未知')"
   ]
  },
  {
   "cell_type": "code",
   "execution_count": 5,
   "id": "03f49288-ac2c-4d1c-a674-981cf6bc88e2",
   "metadata": {},
   "outputs": [
    {
     "name": "stdout",
     "output_type": "stream",
     "text": [
      "The largar one is 20\n",
      "The lower one is 10\n"
     ]
    }
   ],
   "source": [
    "MAXIMUM = lambda x,y :  (x > y) * x + (x < y) * y\n",
    "MINIMUM = lambda x,y :  (x > y) * y + (x < y) * x\n",
    " \n",
    "if __name__ == '__main__':\n",
    "    a = 10\n",
    "    b = 20\n",
    "    print ('The largar one is %d' % MAXIMUM(a,b))\n",
    "    print ('The lower one is %d' % MINIMUM(a,b))"
   ]
  },
  {
   "cell_type": "code",
   "execution_count": 7,
   "id": "9f478c6f-57f9-4436-8c24-3b5e70252464",
   "metadata": {},
   "outputs": [
    {
     "name": "stdout",
     "output_type": "stream",
     "text": [
      "10.651441138969693\n"
     ]
    }
   ],
   "source": [
    "import random\n",
    " \n",
    "#生成 10 到 20 之间的随机数\n",
    "print (random.uniform(10, 20))"
   ]
  },
  {
   "cell_type": "code",
   "execution_count": 9,
   "id": "f64b75d6-44cc-4293-bb5a-6474e7ccc3a9",
   "metadata": {},
   "outputs": [
    {
     "name": "stdout",
     "output_type": "stream",
     "text": [
      "a & b = 3\n",
      "a & b = 3\n"
     ]
    }
   ],
   "source": [
    "if __name__ == '__main__':\n",
    "    a = 0x77\n",
    "    b = a & 3\n",
    "    print ('a & b = %d' % b)\n",
    "    b &= 7\n",
    "    print ('a & b = %d' % b)\n",
    "    "
   ]
  },
  {
   "cell_type": "code",
   "execution_count": 11,
   "id": "a9625c55-7f78-4406-a757-415cdf32a562",
   "metadata": {},
   "outputs": [
    {
     "name": "stdout",
     "output_type": "stream",
     "text": [
      "a | b is 63\n",
      "a | b is 63\n"
     ]
    }
   ],
   "source": [
    "if __name__ == '__main__':\n",
    "    a = 0o77\n",
    "    b = a | 3\n",
    "    print ('a | b is %d' % b)\n",
    "    b |= 7\n",
    "    print ('a | b is %d' % b)\n",
    "    "
   ]
  },
  {
   "cell_type": "code",
   "execution_count": 13,
   "id": "ef0ad963-d15f-4aca-9a91-6c14dd28c6ec",
   "metadata": {},
   "outputs": [
    {
     "name": "stdout",
     "output_type": "stream",
     "text": [
      "The a ^ 3 = 60\n",
      "The a ^ b = 59\n"
     ]
    }
   ],
   "source": [
    "if __name__ == '__main__':\n",
    "    a = 0o77\n",
    "    b = a ^ 3\n",
    "    print ('The a ^ 3 = %d' % b)\n",
    "    b ^= 7\n",
    "    print ('The a ^ b = %d' % b)"
   ]
  },
  {
   "cell_type": "code",
   "execution_count": 15,
   "id": "1cee1e63-1e20-4e15-9419-83c660329ea5",
   "metadata": {},
   "outputs": [
    {
     "name": "stdin",
     "output_type": "stream",
     "text": [
      "input a number:\n",
      " 3413\n"
     ]
    },
    {
     "name": "stdout",
     "output_type": "stream",
     "text": [
      "6525\t5\n"
     ]
    }
   ],
   "source": [
    "if __name__ == '__main__':\n",
    "    a = int(input('input a number:\\n'))\n",
    "    b = a >> 4\n",
    "    c = ~(~0 << 4)\n",
    "    d = b & c\n",
    "    print ('%o\\t%o' %(a,d))"
   ]
  },
  {
   "cell_type": "code",
   "execution_count": 17,
   "id": "f4a71cff-bf4b-4ea1-84ff-46f7069411c9",
   "metadata": {},
   "outputs": [
    {
     "name": "stdout",
     "output_type": "stream",
     "text": [
      "变量 a 取反结果为： -8\n",
      "变量 c 取反结果为： 6\n"
     ]
    }
   ],
   "source": [
    "a = 7\n",
    "b = ~a\n",
    "\n",
    "c = -7\n",
    "d = ~c\n",
    "\n",
    "print ('变量 a 取反结果为： %d' % b)\n",
    "print ('变量 c 取反结果为： %d' % d)"
   ]
  },
  {
   "cell_type": "code",
   "execution_count": 25,
   "id": "f4eb5c09-9bd1-4c8e-92b0-9352f31c3ac6",
   "metadata": {},
   "outputs": [
    {
     "ename": "ModuleNotFoundError",
     "evalue": "No module named 'Tkinter'",
     "output_type": "error",
     "traceback": [
      "\u001b[1;31m---------------------------------------------------------------------------\u001b[0m",
      "\u001b[1;31mModuleNotFoundError\u001b[0m                       Traceback (most recent call last)",
      "Cell \u001b[1;32mIn[25], line 2\u001b[0m\n\u001b[0;32m      1\u001b[0m \u001b[38;5;28;01mif\u001b[39;00m \u001b[38;5;18m__name__\u001b[39m \u001b[38;5;241m==\u001b[39m \u001b[38;5;124m'\u001b[39m\u001b[38;5;124m__main__\u001b[39m\u001b[38;5;124m'\u001b[39m:\n\u001b[1;32m----> 2\u001b[0m     \u001b[38;5;28;01mimport\u001b[39;00m \u001b[38;5;21;01mTkinter\u001b[39;00m \u001b[38;5;28;01mas\u001b[39;00m \u001b[38;5;21;01mTk\u001b[39;00m\n\u001b[0;32m      4\u001b[0m     canvas \u001b[38;5;241m=\u001b[39m Canvas(width\u001b[38;5;241m=\u001b[39m\u001b[38;5;241m800\u001b[39m, height\u001b[38;5;241m=\u001b[39m\u001b[38;5;241m600\u001b[39m, bg\u001b[38;5;241m=\u001b[39m\u001b[38;5;124m'\u001b[39m\u001b[38;5;124myellow\u001b[39m\u001b[38;5;124m'\u001b[39m)  \n\u001b[0;32m      5\u001b[0m     canvas\u001b[38;5;241m.\u001b[39mpack(expand\u001b[38;5;241m=\u001b[39mYES, fill\u001b[38;5;241m=\u001b[39mBOTH)                \n",
      "\u001b[1;31mModuleNotFoundError\u001b[0m: No module named 'Tkinter'"
     ]
    }
   ],
   "source": [
    "if __name__ == '__main__':\n",
    "    import Tkinter as Tk\n",
    " \n",
    "    canvas = Canvas(width=800, height=600, bg='yellow')  \n",
    "    canvas.pack(expand=YES, fill=BOTH)                \n",
    "    k = 1\n",
    "    j = 1\n",
    "    for i in range(0,26):\n",
    "        canvas.create_oval(310 - k,250 - k,310 + k,250 + k, width=1)\n",
    "        k += j\n",
    "        j += 0.3\n",
    " \n",
    "    mainloop()"
   ]
  },
  {
   "cell_type": "code",
   "execution_count": null,
   "id": "e3cd49e9-dc7e-4ce3-b527-0a1cbad8abbc",
   "metadata": {},
   "outputs": [],
   "source": []
  }
 ],
 "metadata": {
  "kernelspec": {
   "display_name": "Python 3 (ipykernel)",
   "language": "python",
   "name": "python3"
  },
  "language_info": {
   "codemirror_mode": {
    "name": "ipython",
    "version": 3
   },
   "file_extension": ".py",
   "mimetype": "text/x-python",
   "name": "python",
   "nbconvert_exporter": "python",
   "pygments_lexer": "ipython3",
   "version": "3.12.4"
  }
 },
 "nbformat": 4,
 "nbformat_minor": 5
}
