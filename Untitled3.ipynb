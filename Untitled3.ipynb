{
 "cells": [
  {
   "cell_type": "code",
   "execution_count": 1,
   "id": "d5529fc9-9df1-4562-be64-2f07757c1cff",
   "metadata": {},
   "outputs": [
    {
     "name": "stdout",
     "output_type": "stream",
     "text": [
      "liudengshuai\n",
      "huaihua\n"
     ]
    }
   ],
   "source": [
    "k = {\"name\":\"liudengshuai\", \"home\":\"huaihua\"}\n",
    "print (k[\"name\"])\n",
    "print(k[\"home\"])"
   ]
  },
  {
   "cell_type": "code",
   "execution_count": 3,
   "id": "1c7ea089-edda-46c7-9f9d-922863a8325c",
   "metadata": {},
   "outputs": [
    {
     "name": "stdout",
     "output_type": "stream",
     "text": [
      "dict_keys(['name', 'home'])\n",
      "dict_values(['liudengshuai', 'huaihua'])\n"
     ]
    }
   ],
   "source": [
    "print( k.keys())\n",
    "print( k.values())"
   ]
  },
  {
   "cell_type": "code",
   "execution_count": 5,
   "id": "f5a9c128-66b9-41d1-b3e1-aef39c11215e",
   "metadata": {},
   "outputs": [
    {
     "name": "stdout",
     "output_type": "stream",
     "text": [
      "{'name': 'lds', 'home': 'huaihua', 'like': 'curry'}\n"
     ]
    }
   ],
   "source": [
    "k[\"like\"] = \"curry\"\n",
    "k['name'] = 'lds'\n",
    "print (k)"
   ]
  },
  {
   "cell_type": "code",
   "execution_count": 7,
   "id": "5b0b1843-35a5-494f-9f99-70006fdf9b39",
   "metadata": {},
   "outputs": [
    {
     "name": "stdout",
     "output_type": "stream",
     "text": [
      "{'name': 'lds', 'home': 'huaihua'}\n"
     ]
    }
   ],
   "source": [
    "k.pop('like')\n",
    "print (k)"
   ]
  },
  {
   "cell_type": "code",
   "execution_count": 9,
   "id": "9ee4c974-57fa-4d5f-b26d-3b4cd43ce61c",
   "metadata": {},
   "outputs": [
    {
     "data": {
      "text/plain": [
       "['name', 'home']"
      ]
     },
     "execution_count": 9,
     "metadata": {},
     "output_type": "execute_result"
    }
   ],
   "source": [
    "list(k)"
   ]
  },
  {
   "cell_type": "code",
   "execution_count": 11,
   "id": "adc7d52b-8f77-4ee0-a045-d0608056facf",
   "metadata": {},
   "outputs": [
    {
     "name": "stdout",
     "output_type": "stream",
     "text": [
      "<zip object at 0x00000246B5CA6800>\n",
      "{'A': 1, 'B': 2, 'C': 3}\n"
     ]
    }
   ],
   "source": [
    "z = zip(('A', 'B', 'C'), [1, 2, 3, 4]) \n",
    "print (z)\n",
    "print (dict(z))"
   ]
  },
  {
   "cell_type": "code",
   "execution_count": 13,
   "id": "fc291e02-4473-4743-abc5-b953a0fae7b9",
   "metadata": {},
   "outputs": [
    {
     "name": "stdout",
     "output_type": "stream",
     "text": [
      "12\n"
     ]
    }
   ],
   "source": [
    "s = '6'\n",
    "num = int(s) \n",
    "num -= 2\n",
    "num *= 3\n",
    "print (num)"
   ]
  },
  {
   "cell_type": "code",
   "execution_count": 15,
   "id": "343e6b65-5b38-4e2b-af64-41d75d74b7b2",
   "metadata": {},
   "outputs": [
    {
     "name": "stdout",
     "output_type": "stream",
     "text": [
      "That's OK.\n"
     ]
    }
   ],
   "source": [
    "a = 1000\n",
    "if a > 10000:\n",
    "    print (\"Wow!!!!!!!\")\n",
    "elif a > 10:\n",
    "    print (\"That's OK.\")\n",
    "elif a > 100:\n",
    "    print (\"5555555555\")\n",
    "else:\n",
    "    print (\"..........\")"
   ]
  },
  {
   "cell_type": "code",
   "execution_count": 17,
   "id": "e24afb9f-61de-4005-b29c-ad3b045abe85",
   "metadata": {},
   "outputs": [
    {
     "name": "stdout",
     "output_type": "stream",
     "text": [
      "..........\n"
     ]
    }
   ],
   "source": [
    "if a> 10000:\n",
    "    print (\"Wow!!!!!!!\")\n",
    "elif a > 5000:\n",
    "    print (\"That's OK.\")\n",
    "elif a > 3000:\n",
    "    print (\"5555555555\")\n",
    "else:\n",
    "    print (\"..........\")"
   ]
  },
  {
   "cell_type": "code",
   "execution_count": null,
   "id": "0803b9b3-db1c-4f0d-9b26-3858eb6c25ce",
   "metadata": {},
   "outputs": [],
   "source": []
  }
 ],
 "metadata": {
  "kernelspec": {
   "display_name": "Python 3 (ipykernel)",
   "language": "python",
   "name": "python3"
  },
  "language_info": {
   "codemirror_mode": {
    "name": "ipython",
    "version": 3
   },
   "file_extension": ".py",
   "mimetype": "text/x-python",
   "name": "python",
   "nbconvert_exporter": "python",
   "pygments_lexer": "ipython3",
   "version": "3.12.4"
  }
 },
 "nbformat": 4,
 "nbformat_minor": 5
}
