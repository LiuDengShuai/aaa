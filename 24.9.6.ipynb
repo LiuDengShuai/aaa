{
 "cells": [
  {
   "cell_type": "code",
   "execution_count": 1,
   "id": "4b98ce02-e484-41df-9e55-3f1f598c43a1",
   "metadata": {},
   "outputs": [
    {
     "name": "stdout",
     "output_type": "stream",
     "text": [
      "True\n",
      "False\n",
      "False\n",
      "True\n"
     ]
    }
   ],
   "source": [
    "list=[1,2,3,4,6,7]\n",
    "print(1 in list)\n",
    "print(1 not in list)\n",
    "print(5 in list)\n",
    "print(5 not in list)"
   ]
  },
  {
   "cell_type": "code",
   "execution_count": 3,
   "id": "64461cc8-3454-4c3b-8f95-2a035d801bf0",
   "metadata": {},
   "outputs": [
    {
     "data": {
      "text/plain": [
       "1"
      ]
     },
     "execution_count": 3,
     "metadata": {},
     "output_type": "execute_result"
    }
   ],
   "source": [
    "list.count(1)#个数"
   ]
  },
  {
   "cell_type": "code",
   "execution_count": 5,
   "id": "46951bab-0a19-46de-942b-a3a1a0a79c83",
   "metadata": {},
   "outputs": [
    {
     "data": {
      "text/plain": [
       "0"
      ]
     },
     "execution_count": 5,
     "metadata": {},
     "output_type": "execute_result"
    }
   ],
   "source": [
    "list.index(1)#位置"
   ]
  },
  {
   "cell_type": "code",
   "execution_count": 13,
   "id": "6d793d9d-5490-4ade-9156-6329f18c546b",
   "metadata": {},
   "outputs": [
    {
     "name": "stdout",
     "output_type": "stream",
     "text": [
      "('a', 'b', 'c', 'd', [1, 2, 3, 4])\n"
     ]
    }
   ],
   "source": [
    "scores=[1,2,3,4]\n",
    "tuple=('a','b','c','d',scores)\n",
    "print(tuple)"
   ]
  },
  {
   "cell_type": "code",
   "execution_count": 15,
   "id": "a0ea894f-d165-449d-ad0b-9c0972cf75ef",
   "metadata": {},
   "outputs": [
    {
     "name": "stdout",
     "output_type": "stream",
     "text": [
      "('a', 'b', 'c', 'd', [1, 6, 3, 4])\n"
     ]
    }
   ],
   "source": [
    "scores[1]=6\n",
    "print(tuple)"
   ]
  },
  {
   "cell_type": "code",
   "execution_count": 23,
   "id": "daac76e6-63a0-421a-b632-ed8ca2df1a3e",
   "metadata": {},
   "outputs": [
    {
     "name": "stdout",
     "output_type": "stream",
     "text": [
      "Error\n"
     ]
    }
   ],
   "source": [
    "try:\n",
    "    tuple[1] = 'e'\n",
    "except TypeError:\n",
    "    print ('Error')"
   ]
  },
  {
   "cell_type": "code",
   "execution_count": 25,
   "id": "da74f53f-8be2-40c3-b960-6c3be0945033",
   "metadata": {},
   "outputs": [
    {
     "data": {
      "text/plain": [
       "('a', 'b', 'c', 'd', [1, 6, 3, 4])"
      ]
     },
     "execution_count": 25,
     "metadata": {},
     "output_type": "execute_result"
    }
   ],
   "source": [
    "tuple[0:5]"
   ]
  },
  {
   "cell_type": "code",
   "execution_count": 27,
   "id": "0b216a21-0c7c-402f-a2a6-806433b12798",
   "metadata": {},
   "outputs": [
    {
     "data": {
      "text/plain": [
       "('a', 'b', 'c', 'd')"
      ]
     },
     "execution_count": 27,
     "metadata": {},
     "output_type": "execute_result"
    }
   ],
   "source": [
    "tuple[0:4]"
   ]
  },
  {
   "cell_type": "code",
   "execution_count": 29,
   "id": "27b71a0e-c7d0-414d-91a6-7dc5da3672e9",
   "metadata": {},
   "outputs": [
    {
     "data": {
      "text/plain": [
       "True"
      ]
     },
     "execution_count": 29,
     "metadata": {},
     "output_type": "execute_result"
    }
   ],
   "source": [
    "'b' in tuple"
   ]
  },
  {
   "cell_type": "code",
   "execution_count": 31,
   "id": "2826d381-398a-4e98-8ff5-21bc065a7a10",
   "metadata": {},
   "outputs": [
    {
     "data": {
      "text/plain": [
       "5"
      ]
     },
     "execution_count": 31,
     "metadata": {},
     "output_type": "execute_result"
    }
   ],
   "source": [
    "len(tuple)"
   ]
  },
  {
   "cell_type": "code",
   "execution_count": 33,
   "id": "382c3ab3-d085-40db-aa62-19873cb5af85",
   "metadata": {},
   "outputs": [
    {
     "ename": "AttributeError",
     "evalue": "'tuple' object has no attribute 'extend'",
     "output_type": "error",
     "traceback": [
      "\u001b[1;31m---------------------------------------------------------------------------\u001b[0m",
      "\u001b[1;31mAttributeError\u001b[0m                            Traceback (most recent call last)",
      "Cell \u001b[1;32mIn[33], line 1\u001b[0m\n\u001b[1;32m----> 1\u001b[0m \u001b[38;5;28mtuple\u001b[39m\u001b[38;5;241m.\u001b[39mextend(\u001b[38;5;124m'\u001b[39m\u001b[38;5;124ma\u001b[39m\u001b[38;5;124m'\u001b[39m)\n",
      "\u001b[1;31mAttributeError\u001b[0m: 'tuple' object has no attribute 'extend'"
     ]
    }
   ],
   "source": [
    "tuple1=(1,1,2,3,4)\n",
    "tuple1.count(1)\n",
    "tuple1.count(2)\n"
   ]
  },
  {
   "cell_type": "code",
   "execution_count": null,
   "id": "473f41b0-3335-4734-ad5d-0ac7f5fe8bb8",
   "metadata": {},
   "outputs": [],
   "source": []
  }
 ],
 "metadata": {
  "kernelspec": {
   "display_name": "Python 3 (ipykernel)",
   "language": "python",
   "name": "python3"
  },
  "language_info": {
   "codemirror_mode": {
    "name": "ipython",
    "version": 3
   },
   "file_extension": ".py",
   "mimetype": "text/x-python",
   "name": "python",
   "nbconvert_exporter": "python",
   "pygments_lexer": "ipython3",
   "version": "3.12.4"
  }
 },
 "nbformat": 4,
 "nbformat_minor": 5
}
