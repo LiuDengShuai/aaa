{
 "cells": [
  {
   "cell_type": "code",
   "execution_count": 3,
   "id": "ce48ecbd-1e66-4591-8e82-f643e7395cc6",
   "metadata": {},
   "outputs": [
    {
     "name": "stdout",
     "output_type": "stream",
     "text": [
      "90 =  2 * 3 * 3 * 5\n",
      "100 =  2 * 2 * 5 * 5\n"
     ]
    }
   ],
   "source": [
    "def reduceNum(n):\n",
    "    print ('{} = '.format(n), end=\" \")\n",
    "    if not isinstance(n, int) or n <= 0 :\n",
    "        print ('请输入一个正确的数字 !')\n",
    "        exit(0)\n",
    "    elif n in [1] :\n",
    "        print ('{}'.format(n))\n",
    "    while n not in [1] : # 循环保证递归\n",
    "        for index in range(2, n + 1) :\n",
    "            if n % index == 0:\n",
    "                n //= index # n 等于 n//index\n",
    "                if n == 1: \n",
    "                    print (index )\n",
    "                else : # index 一定是素数\n",
    "                    print ('{} *'.format(index), end=\" \")\n",
    "                break\n",
    "reduceNum(90)\n",
    "reduceNum(100)"
   ]
  },
  {
   "cell_type": "code",
   "execution_count": 5,
   "id": "0c982f41-a105-4c9e-b1f6-2c7a1866e2f0",
   "metadata": {},
   "outputs": [
    {
     "name": "stdin",
     "output_type": "stream",
     "text": [
      "输入分数:\n",
      " 66\n"
     ]
    },
    {
     "name": "stdout",
     "output_type": "stream",
     "text": [
      "66 属于 B\n"
     ]
    }
   ],
   "source": [
    "score = int(input('输入分数:\\n'))\n",
    "if score >= 90:\n",
    "    grade = 'A'\n",
    "elif score >= 60:\n",
    "    grade = 'B'\n",
    "else:\n",
    "    grade = 'C'\n",
    " \n",
    "print ('%d 属于 %s' % (score,grade))"
   ]
  },
  {
   "cell_type": "code",
   "execution_count": 7,
   "id": "3f80499c-7e51-4791-bb1a-568efcf0a6a0",
   "metadata": {},
   "outputs": [
    {
     "name": "stdout",
     "output_type": "stream",
     "text": [
      "30/09/2024\n",
      "05/01/1941\n",
      "06/01/1941\n",
      "05/01/1942\n"
     ]
    }
   ],
   "source": [
    "import datetime\n",
    " \n",
    "if __name__ == '__main__':\n",
    " \n",
    "    # 输出今日日期，格式为 dd/mm/yyyy。更多选项可以查看 strftime() 方法\n",
    "    print(datetime.date.today().strftime('%d/%m/%Y'))\n",
    " \n",
    "    # 创建日期对象\n",
    "    miyazakiBirthDate = datetime.date(1941, 1, 5)\n",
    " \n",
    "    print(miyazakiBirthDate.strftime('%d/%m/%Y'))\n",
    " \n",
    "    # 日期算术运算\n",
    "    miyazakiBirthNextDay = miyazakiBirthDate + datetime.timedelta(days=1)\n",
    " \n",
    "    print(miyazakiBirthNextDay.strftime('%d/%m/%Y'))\n",
    " \n",
    "    # 日期替换\n",
    "    miyazakiFirstBirthday = miyazakiBirthDate.replace(year=miyazakiBirthDate.year + 1)\n",
    " \n",
    "    print(miyazakiFirstBirthday.strftime('%d/%m/%Y'))"
   ]
  },
  {
   "cell_type": "code",
   "execution_count": 9,
   "id": "05a8f943-41a0-4c87-ae12-1c8d42ee4cdc",
   "metadata": {},
   "outputs": [
    {
     "name": "stdin",
     "output_type": "stream",
     "text": [
      "请输入一个字符串:\n",
      " hsai\n"
     ]
    },
    {
     "name": "stdout",
     "output_type": "stream",
     "text": [
      "char = 4,space = 0,digit = 0,others = 0\n"
     ]
    }
   ],
   "source": [
    "import string\n",
    "s = input('请输入一个字符串:\\n')\n",
    "letters = 0\n",
    "space = 0\n",
    "digit = 0\n",
    "others = 0\n",
    "for c in s:\n",
    "    if c.isalpha():\n",
    "        letters += 1\n",
    "    elif c.isspace():\n",
    "        space += 1\n",
    "    elif c.isdigit():\n",
    "        digit += 1\n",
    "    else:\n",
    "        others += 1\n",
    "print ('char = %d,space = %d,digit = %d,others = %d' % (letters,space,digit,others))"
   ]
  },
  {
   "cell_type": "code",
   "execution_count": 11,
   "id": "f8f19d5e-d6db-4748-97b7-4a40a93ab1ec",
   "metadata": {},
   "outputs": [
    {
     "name": "stdin",
     "output_type": "stream",
     "text": [
      "n =  2\n",
      "a =  3\n"
     ]
    },
    {
     "name": "stdout",
     "output_type": "stream",
     "text": [
      "3\n",
      "33\n",
      "计算和为： 36\n"
     ]
    }
   ],
   "source": [
    "from functools import reduce\n",
    " \n",
    "Tn = 0\n",
    "Sn = []\n",
    "n = int(input('n = '))\n",
    "a = int(input('a = '))\n",
    "for count in range(n):\n",
    "    Tn = Tn + a\n",
    "    a = a * 10\n",
    "    Sn.append(Tn)\n",
    "    print (Tn)\n",
    " \n",
    "Sn = reduce(lambda x,y : x + y,Sn)\n",
    "print (\"计算和为：\",Sn)"
   ]
  },
  {
   "cell_type": "code",
   "execution_count": null,
   "id": "9b7380d5-a18a-44ec-a35d-0ea290e10b8b",
   "metadata": {},
   "outputs": [],
   "source": []
  }
 ],
 "metadata": {
  "kernelspec": {
   "display_name": "Python 3 (ipykernel)",
   "language": "python",
   "name": "python3"
  },
  "language_info": {
   "codemirror_mode": {
    "name": "ipython",
    "version": 3
   },
   "file_extension": ".py",
   "mimetype": "text/x-python",
   "name": "python",
   "nbconvert_exporter": "python",
   "pygments_lexer": "ipython3",
   "version": "3.12.4"
  }
 },
 "nbformat": 4,
 "nbformat_minor": 5
}
