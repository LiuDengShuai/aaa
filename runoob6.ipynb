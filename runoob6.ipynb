{
 "cells": [
  {
   "cell_type": "code",
   "execution_count": 1,
   "id": "0e962a06-ca3c-40e9-b1b1-08582a5ab107",
   "metadata": {},
   "outputs": [
    {
     "name": "stdout",
     "output_type": "stream",
     "text": [
      "1,2,3,4,5\n"
     ]
    }
   ],
   "source": [
    "L = [1,2,3,4,5]\n",
    "s1 = ','.join(str(n) for n in L)\n",
    "print (s1)"
   ]
  },
  {
   "cell_type": "code",
   "execution_count": 3,
   "id": "d189f41a-e459-4ff6-be0b-9dbeb48345e9",
   "metadata": {},
   "outputs": [
    {
     "name": "stdout",
     "output_type": "stream",
     "text": [
      "RUNOOB\n",
      "RUNOOB\n",
      "RUNOOB\n"
     ]
    }
   ],
   "source": [
    "def hello_runoob():\n",
    "    print ('RUNOOB')\n",
    " \n",
    "def hello_runoobs():\n",
    "    for i in range(3):\n",
    "        hello_runoob()\n",
    "if __name__ == '__main__':\n",
    "    hello_runoobs()"
   ]
  },
  {
   "cell_type": "code",
   "execution_count": 5,
   "id": "66563506-7b11-4c6d-a54b-9f2f83521ac0",
   "metadata": {},
   "outputs": [
    {
     "name": "stdout",
     "output_type": "stream",
     "text": [
      "\u001b[93m警告的颜色字体?\u001b[0m\n"
     ]
    }
   ],
   "source": [
    "class bcolors:\n",
    "    HEADER = '\\033[95m'\n",
    "    OKBLUE = '\\033[94m'\n",
    "    OKGREEN = '\\033[92m'\n",
    "    WARNING = '\\033[93m'\n",
    "    FAIL = '\\033[91m'\n",
    "    ENDC = '\\033[0m'\n",
    "    BOLD = '\\033[1m'\n",
    "    UNDERLINE = '\\033[4m'\n",
    "print (bcolors.WARNING + \"警告的颜色字体?\" + bcolors.ENDC)"
   ]
  },
  {
   "cell_type": "code",
   "execution_count": 7,
   "id": "86047a6c-b06b-4b9a-8635-692edf3d0638",
   "metadata": {},
   "outputs": [
    {
     "name": "stdin",
     "output_type": "stream",
     "text": [
      "输入区间最小值:  23\n",
      "输入区间最大值:  25\n"
     ]
    },
    {
     "name": "stdout",
     "output_type": "stream",
     "text": [
      "23\n"
     ]
    }
   ],
   "source": [
    "lower = int(input(\"输入区间最小值: \"))\n",
    "upper = int(input(\"输入区间最大值: \"))\n",
    " \n",
    "for num in range(lower,upper + 1):\n",
    "    # 素数大于 1\n",
    "    if num > 1:\n",
    "        for i in range(2,num):\n",
    "            if (num % i) == 0:\n",
    "                break\n",
    "        else:\n",
    "            print(num)"
   ]
  },
  {
   "cell_type": "code",
   "execution_count": 9,
   "id": "4b435b65-9f97-411c-b68b-86bb3643b036",
   "metadata": {},
   "outputs": [
    {
     "name": "stdout",
     "output_type": "stream",
     "text": [
      "请输入10个数字:\n",
      "\n"
     ]
    },
    {
     "name": "stdin",
     "output_type": "stream",
     "text": [
      "输入一个数字:\n",
      " 2\n",
      "输入一个数字:\n",
      " 3\n",
      "输入一个数字:\n",
      " 1\n",
      "输入一个数字:\n",
      " 7\n",
      "输入一个数字:\n",
      " 8\n",
      "输入一个数字:\n",
      " 1\n",
      "输入一个数字:\n",
      " 2\n",
      "输入一个数字:\n",
      " 43\n",
      "输入一个数字:\n",
      " 432\n",
      "输入一个数字:\n",
      " 12\n"
     ]
    },
    {
     "name": "stdout",
     "output_type": "stream",
     "text": [
      "2\n",
      "3\n",
      "1\n",
      "7\n",
      "8\n",
      "1\n",
      "2\n",
      "43\n",
      "432\n",
      "12\n",
      "排列之后：\n",
      "1\n",
      "1\n",
      "2\n",
      "2\n",
      "3\n",
      "7\n",
      "8\n",
      "12\n",
      "43\n",
      "432\n"
     ]
    }
   ],
   "source": [
    "if __name__ == \"__main__\":\n",
    "    N = 10\n",
    "    # input data\n",
    "    print ('请输入10个数字:\\n')\n",
    "    l = []\n",
    "    for i in range(N):\n",
    "        l.append(int(input('输入一个数字:\\n')))\n",
    "    print\n",
    "    for i in range(N):\n",
    "        print (l[i])\n",
    "    print\n",
    " \n",
    "    # 排列10个数字\n",
    "    for i in range(N - 1):\n",
    "        min = i\n",
    "        for j in range(i + 1,N):\n",
    "            if l[min] > l[j]:min = j\n",
    "        l[i],l[min] = l[min],l[i]\n",
    "    print ('排列之后：')\n",
    "    for i in range(N):\n",
    "        print (l[i])\n"
   ]
  },
  {
   "cell_type": "code",
   "execution_count": null,
   "id": "810cb3d8-22ec-4746-844c-e19d3833ef0a",
   "metadata": {},
   "outputs": [],
   "source": []
  }
 ],
 "metadata": {
  "kernelspec": {
   "display_name": "Python 3 (ipykernel)",
   "language": "python",
   "name": "python3"
  },
  "language_info": {
   "codemirror_mode": {
    "name": "ipython",
    "version": 3
   },
   "file_extension": ".py",
   "mimetype": "text/x-python",
   "name": "python",
   "nbconvert_exporter": "python",
   "pygments_lexer": "ipython3",
   "version": "3.12.4"
  }
 },
 "nbformat": 4,
 "nbformat_minor": 5
}
