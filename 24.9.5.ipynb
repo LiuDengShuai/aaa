{
 "cells": [
  {
   "cell_type": "code",
   "execution_count": 1,
   "id": "e400a31b-e8bf-4260-833b-e99bf9bf5377",
   "metadata": {},
   "outputs": [
    {
     "data": {
      "text/plain": [
       "(4+0j)"
      ]
     },
     "execution_count": 1,
     "metadata": {},
     "output_type": "execute_result"
    }
   ],
   "source": [
    "complex(4)"
   ]
  },
  {
   "cell_type": "code",
   "execution_count": 3,
   "id": "f2046c18-3160-4016-8ff3-d277d9a104ce",
   "metadata": {},
   "outputs": [
    {
     "name": "stdout",
     "output_type": "stream",
     "text": [
      "[0, 1, 2, 3, 4, 5]\n"
     ]
    }
   ],
   "source": [
    "list=[0,1,2,3,4,5]\n",
    "print(list)"
   ]
  },
  {
   "cell_type": "code",
   "execution_count": 5,
   "id": "723d8bcf-e262-46a0-bbc8-315b14d415bd",
   "metadata": {},
   "outputs": [
    {
     "data": {
      "text/plain": [
       "2"
      ]
     },
     "execution_count": 5,
     "metadata": {},
     "output_type": "execute_result"
    }
   ],
   "source": [
    "list[2]"
   ]
  },
  {
   "cell_type": "code",
   "execution_count": 7,
   "id": "e8b15a14-7883-478a-acbd-b1a060c9896b",
   "metadata": {},
   "outputs": [
    {
     "data": {
      "text/plain": [
       "[1, 2]"
      ]
     },
     "execution_count": 7,
     "metadata": {},
     "output_type": "execute_result"
    }
   ],
   "source": [
    "list[1:3]"
   ]
  },
  {
   "cell_type": "code",
   "execution_count": 9,
   "id": "a7c58d65-aabe-4b8d-ac0c-04a850ae60f2",
   "metadata": {},
   "outputs": [
    {
     "data": {
      "text/plain": [
       "[0, 2, 4]"
      ]
     },
     "execution_count": 9,
     "metadata": {},
     "output_type": "execute_result"
    }
   ],
   "source": [
    "list[0:6:2]"
   ]
  },
  {
   "cell_type": "code",
   "execution_count": 19,
   "id": "a87f04fd-1821-48eb-a788-58fa106125f1",
   "metadata": {},
   "outputs": [
    {
     "data": {
      "text/plain": [
       "[2, 3, 4, 5]"
      ]
     },
     "execution_count": 19,
     "metadata": {},
     "output_type": "execute_result"
    }
   ],
   "source": [
    "list[2:6:1]"
   ]
  },
  {
   "cell_type": "code",
   "execution_count": 21,
   "id": "f94e730c-ae90-47a0-a1aa-e3c281e1def8",
   "metadata": {},
   "outputs": [
    {
     "data": {
      "text/plain": [
       "[1, 2, 3]"
      ]
     },
     "execution_count": 21,
     "metadata": {},
     "output_type": "execute_result"
    }
   ],
   "source": [
    "list[-5:-2]"
   ]
  },
  {
   "cell_type": "code",
   "execution_count": 23,
   "id": "00a2b1d8-718b-4b6a-acbd-008e635faa99",
   "metadata": {},
   "outputs": [
    {
     "name": "stdout",
     "output_type": "stream",
     "text": [
      "lds\n"
     ]
    }
   ],
   "source": [
    "list[2]=\"lds\"\n",
    "print(list[2])"
   ]
  },
  {
   "cell_type": "code",
   "execution_count": 25,
   "id": "fd2a5913-de36-434e-905d-94d09ff98881",
   "metadata": {},
   "outputs": [
    {
     "name": "stdout",
     "output_type": "stream",
     "text": [
      "[0, 1, 'lds', 3, 4, 5]\n"
     ]
    }
   ],
   "source": [
    "print(list)"
   ]
  },
  {
   "cell_type": "code",
   "execution_count": 43,
   "id": "a2c49053-2d64-450d-a2af-476fced6fcce",
   "metadata": {},
   "outputs": [
    {
     "name": "stdout",
     "output_type": "stream",
     "text": [
      "[0, 1, 'shuai', 'shuai', 'lds', 3, 4, 5, 'ds', 'ds', 'ds', 'ds', 'd', 's', 'ds', 'd', 's', 'ds', 'd', 's', 'ds', 'd', 's']\n"
     ]
    }
   ],
   "source": [
    "list.append('ds')\n",
    "list.extend(['d','s'])\n",
    "print(list)"
   ]
  },
  {
   "cell_type": "code",
   "execution_count": 45,
   "id": "593539c9-2dd6-46a9-8c2f-b073167690fc",
   "metadata": {},
   "outputs": [
    {
     "name": "stdout",
     "output_type": "stream",
     "text": [
      "[0, 1, 'shuai', 'shuai', 'shuai', 'lds', 3, 4, 5, 'ds', 'ds', 'ds', 'ds', 'd', 's', 'ds', 'd', 's', 'ds', 'd', 's', 'ds', 'd', 's']\n"
     ]
    }
   ],
   "source": [
    "list.insert(2,\"shuai\")\n",
    "print(list)"
   ]
  },
  {
   "cell_type": "code",
   "execution_count": 47,
   "id": "6fad778b-3279-4802-9b9a-042e93b64b6f",
   "metadata": {},
   "outputs": [
    {
     "name": "stdout",
     "output_type": "stream",
     "text": [
      "shuai\n",
      "[0, 1, 'shuai', 'shuai', 'lds', 3, 4, 5, 'ds', 'ds', 'ds', 'ds', 'd', 's', 'ds', 'd', 's', 'ds', 'd', 's', 'ds', 'd', 's']\n"
     ]
    }
   ],
   "source": [
    "print(list.pop(2))\n",
    "print(list)"
   ]
  },
  {
   "cell_type": "code",
   "execution_count": null,
   "id": "2d0547c4-a867-493b-a3ab-b1d554ff8970",
   "metadata": {},
   "outputs": [],
   "source": []
  }
 ],
 "metadata": {
  "kernelspec": {
   "display_name": "Python 3 (ipykernel)",
   "language": "python",
   "name": "python3"
  },
  "language_info": {
   "codemirror_mode": {
    "name": "ipython",
    "version": 3
   },
   "file_extension": ".py",
   "mimetype": "text/x-python",
   "name": "python",
   "nbconvert_exporter": "python",
   "pygments_lexer": "ipython3",
   "version": "3.12.4"
  }
 },
 "nbformat": 4,
 "nbformat_minor": 5
}
