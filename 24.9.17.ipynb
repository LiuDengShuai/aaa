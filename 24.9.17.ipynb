{
 "cells": [
  {
   "cell_type": "code",
   "execution_count": 1,
   "id": "3daf9e89-5c0b-4d98-b673-487dafd17d12",
   "metadata": {},
   "outputs": [
    {
     "name": "stdout",
     "output_type": "stream",
     "text": [
      "0\n",
      "1\n",
      "2\n",
      "3\n",
      "4\n",
      "more\n",
      "more\n",
      "more\n",
      "done\n"
     ]
    }
   ],
   "source": [
    "a = 0\n",
    "while a < 8:\n",
    "    if a <= 4:\n",
    "        print (a)\n",
    "    else:\n",
    "        print (\"more\")\n",
    "    a = a + 1\n",
    "else:\n",
    "    print (\"done\")"
   ]
  },
  {
   "cell_type": "code",
   "execution_count": 17,
   "id": "a4a2c810-c863-4ebf-af71-044a1c877a83",
   "metadata": {},
   "outputs": [
    {
     "name": "stdout",
     "output_type": "stream",
     "text": [
      "l 99\n",
      "d 80\n",
      "s 60\n"
     ]
    }
   ],
   "source": [
    "scores={\"l\":99,\"d\":80,\"s\":60}\n",
    "for i in scores:\n",
    "    print(i,scores[i])"
   ]
  },
  {
   "cell_type": "code",
   "execution_count": 19,
   "id": "3d156a56-1543-4f21-a53f-a94ccb37a9a1",
   "metadata": {},
   "outputs": [
    {
     "name": "stdout",
     "output_type": "stream",
     "text": [
      "l 99\n",
      "d 80\n",
      "s 60\n"
     ]
    }
   ],
   "source": [
    "for key, value in scores.items():\n",
    "    print(key, value)"
   ]
  },
  {
   "cell_type": "code",
   "execution_count": 21,
   "id": "c6ceb2b6-3cf5-452e-8dc6-df8d882a08d9",
   "metadata": {},
   "outputs": [
    {
     "data": {
      "text/plain": [
       "range(1, 3)"
      ]
     },
     "execution_count": 21,
     "metadata": {},
     "output_type": "execute_result"
    }
   ],
   "source": [
    "range(1,3)"
   ]
  },
  {
   "cell_type": "code",
   "execution_count": 23,
   "id": "2b62f157-0e5b-4280-aa5a-b6f77375b7c5",
   "metadata": {},
   "outputs": [
    {
     "name": "stdout",
     "output_type": "stream",
     "text": [
      "3\n"
     ]
    }
   ],
   "source": [
    "total = 0\n",
    "for i in range(1, 3):\n",
    "    total += i#total=total+i\n",
    "print (total)"
   ]
  },
  {
   "cell_type": "code",
   "execution_count": 27,
   "id": "de9b56e6-ec7a-41b8-b21c-2ad7e28f9b0f",
   "metadata": {},
   "outputs": [
    {
     "name": "stdout",
     "output_type": "stream",
     "text": [
      "1\n",
      "2\n"
     ]
    }
   ],
   "source": [
    "for i in range(1, 5):\n",
    "    if i == 3:\n",
    "        break\n",
    "    print (i)"
   ]
  },
  {
   "cell_type": "code",
   "execution_count": 29,
   "id": "87abc8fa-359c-4474-9fd7-94ecec18a97d",
   "metadata": {},
   "outputs": [
    {
     "name": "stdout",
     "output_type": "stream",
     "text": [
      "1\n",
      "2\n",
      "3\n",
      "4\n"
     ]
    }
   ],
   "source": [
    "for i in range(1, 5):\n",
    "    if i == 3:\n",
    "        pass\n",
    "    print (i)"
   ]
  },
  {
   "cell_type": "code",
   "execution_count": 31,
   "id": "b7dda86c-168c-46ba-9a3c-371a5a50c7b1",
   "metadata": {},
   "outputs": [
    {
     "name": "stdout",
     "output_type": "stream",
     "text": [
      "1\n",
      "2\n",
      "4\n"
     ]
    }
   ],
   "source": [
    "for i in range(1, 5):\n",
    "    if i == 3:\n",
    "        continue\n",
    "    print (i)"
   ]
  },
  {
   "cell_type": "code",
   "execution_count": 35,
   "id": "15596929-2684-4958-8ed2-7cf84f706a74",
   "metadata": {},
   "outputs": [
    {
     "data": {
      "text/plain": [
       "['l', 'd', 's']"
      ]
     },
     "execution_count": 35,
     "metadata": {},
     "output_type": "execute_result"
    }
   ],
   "source": [
    "word = ['\"l\"', 'd', '\"s\"']\n",
    "[x.strip('\"') for x in word] "
   ]
  },
  {
   "cell_type": "code",
   "execution_count": 37,
   "id": "a5a24b6b-5ac4-433b-9752-6808c6fc2f9d",
   "metadata": {},
   "outputs": [
    {
     "data": {
      "text/plain": [
       "['l', 'd', 's']"
      ]
     },
     "execution_count": 37,
     "metadata": {},
     "output_type": "execute_result"
    }
   ],
   "source": [
    "test_list=[]\n",
    "for x in word:\n",
    "    x=x.strip('\"')\n",
    "    test_list.append(x)\n",
    "test_list"
   ]
  },
  {
   "cell_type": "code",
   "execution_count": 41,
   "id": "36d4fd49-e7ea-4cd1-808a-3c3699680951",
   "metadata": {},
   "outputs": [
    {
     "data": {
      "text/plain": [
       "[1, 9, 25, 49, 81, 121, 169, 225, 289]"
      ]
     },
     "execution_count": 41,
     "metadata": {},
     "output_type": "execute_result"
    }
   ],
   "source": [
    "[x ** 2 for x in range(18) if x%2]"
   ]
  },
  {
   "cell_type": "code",
   "execution_count": 43,
   "id": "52459d55-8c0b-4976-a00f-aeab82c5c0d9",
   "metadata": {},
   "outputs": [
    {
     "data": {
      "text/plain": [
       "[1, 9, 25, 49, 81, 121, 169, 225]"
      ]
     },
     "execution_count": 43,
     "metadata": {},
     "output_type": "execute_result"
    }
   ],
   "source": [
    "test_list=[]\n",
    "for x in range(17):\n",
    "    if x%2:\n",
    "        x=x**2\n",
    "        test_list.append(x)\n",
    "test_list"
   ]
  },
  {
   "cell_type": "code",
   "execution_count": 45,
   "id": "60012dc4-b049-4f38-9d85-caa534cca6dc",
   "metadata": {},
   "outputs": [
    {
     "data": {
      "text/plain": [
       "['AX', 'AY', 'AZ', 'BX', 'BY', 'BZ', 'CX', 'CY', 'CZ']"
      ]
     },
     "execution_count": 45,
     "metadata": {},
     "output_type": "execute_result"
    }
   ],
   "source": [
    "[m + n for m in 'ABC' for n in 'XYZ']"
   ]
  },
  {
   "cell_type": "code",
   "execution_count": 47,
   "id": "7f0c7ed9-db38-4fb5-b3f9-80c581533608",
   "metadata": {},
   "outputs": [
    {
     "data": {
      "text/plain": [
       "['AX', 'AY', 'AZ', 'BX', 'BY', 'BZ', 'CX', 'CY', 'CZ']"
      ]
     },
     "execution_count": 47,
     "metadata": {},
     "output_type": "execute_result"
    }
   ],
   "source": [
    "test_list=[]\n",
    "for m in 'ABC':\n",
    "    for n in 'XYZ':\n",
    "        x=m+n\n",
    "        test_list.append(x)\n",
    "test_list"
   ]
  },
  {
   "cell_type": "code",
   "execution_count": null,
   "id": "b6be16f8-864c-4890-b695-0dc0a7f049c0",
   "metadata": {},
   "outputs": [],
   "source": []
  }
 ],
 "metadata": {
  "kernelspec": {
   "display_name": "Python 3 (ipykernel)",
   "language": "python",
   "name": "python3"
  },
  "language_info": {
   "codemirror_mode": {
    "name": "ipython",
    "version": 3
   },
   "file_extension": ".py",
   "mimetype": "text/x-python",
   "name": "python",
   "nbconvert_exporter": "python",
   "pygments_lexer": "ipython3",
   "version": "3.12.4"
  }
 },
 "nbformat": 4,
 "nbformat_minor": 5
}
