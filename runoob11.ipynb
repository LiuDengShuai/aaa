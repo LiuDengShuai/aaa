{
 "cells": [
  {
   "cell_type": "code",
   "execution_count": 1,
   "id": "d74da088-43a6-4461-8b0f-9bb0dcb92626",
   "metadata": {},
   "outputs": [
    {
     "name": "stdin",
     "output_type": "stream",
     "text": [
      "please input a string:\n",
      " sdfa\n"
     ]
    },
    {
     "name": "stdout",
     "output_type": "stream",
     "text": [
      "the string has 4 characters.\n"
     ]
    }
   ],
   "source": [
    "if __name__ == '__main__':\n",
    "    s = input('please input a string:\\n')\n",
    "    print ('the string has %d characters.' % len(s))"
   ]
  },
  {
   "cell_type": "code",
   "execution_count": 9,
   "id": "fc4a1eb8-1da8-4a74-8cf7-deddaa58e037",
   "metadata": {},
   "outputs": [
    {
     "ename": "SyntaxError",
     "evalue": "Missing parentheses in call to 'print'. Did you mean print(...)? (1061730625.py, line 25)",
     "output_type": "error",
     "traceback": [
      "\u001b[1;36m  Cell \u001b[1;32mIn[9], line 25\u001b[1;36m\u001b[0m\n\u001b[1;33m    print student\u001b[0m\n\u001b[1;37m    ^\u001b[0m\n\u001b[1;31mSyntaxError\u001b[0m\u001b[1;31m:\u001b[0m Missing parentheses in call to 'print'. Did you mean print(...)?\n"
     ]
    }
   ],
   "source": [
    "N = 3\n",
    "#stu\n",
    "# num : string\n",
    "# name : string\n",
    "# score[4]: list\n",
    "student = []\n",
    "for i in range(5):\n",
    "    student.append(['','',[]])\n",
    " \n",
    "def input_stu(stu):\n",
    "    for i in range(N):\n",
    "        stu[i][0] = raw_input('input student num:\\n')\n",
    "        stu[i][1] = raw_input('input student name:\\n')\n",
    "        for j in range(3):\n",
    "            stu[i][2].append(int(raw_input('score:\\n')))\n",
    " \n",
    "def output_stu(stu):\n",
    "    for i in range(N):\n",
    "        print ('%-6s%-10s' %  stu[i][0],stu[i][1] )\n",
    "        for j in range(3):\n",
    "            print( '%-8d' % stu[i][2][j])\n",
    " \n",
    "if __name__ == '__main__':\n",
    "    input_stu(student)\n",
    "    print student\n",
    "    output_stu(student)"
   ]
  },
  {
   "cell_type": "code",
   "execution_count": 11,
   "id": "b8a71978-0729-43ef-a29c-853f7687c45b",
   "metadata": {},
   "outputs": [
    {
     "name": "stdin",
     "output_type": "stream",
     "text": [
      "please input a number:\n",
      " 455\n",
      "please input a number:\n",
      " 12\n",
      "please input a number:\n",
      " 32\n",
      "please input a number:\n",
      " 12\n",
      "please input a number:\n",
      " 12\n"
     ]
    },
    {
     "name": "stdout",
     "output_type": "stream",
     "text": [
      "[455, 12, 32, 12, 12]\n"
     ]
    }
   ],
   "source": [
    "if __name__ == '__main__':\n",
    "    ptr = []\n",
    "    for i in range(5):\n",
    "        num = int(input('please input a number:\\n'))\n",
    "        ptr.append(num)\n",
    "    print (ptr)"
   ]
  },
  {
   "cell_type": "code",
   "execution_count": 15,
   "id": "c8f8ce62-7bfa-40fe-aa75-07fdabf35680",
   "metadata": {},
   "outputs": [
    {
     "name": "stdin",
     "output_type": "stream",
     "text": [
      "please input a number:\n",
      " 342\n",
      "please input a number:\n",
      " 243\n",
      "please input a number:\n",
      " 23\n",
      "please input a number:\n",
      " 1\n",
      "please input a number:\n",
      " 1\n"
     ]
    },
    {
     "name": "stdout",
     "output_type": "stream",
     "text": [
      "[342, 243, 23, 1, 1]\n",
      "[1, 1, 23, 243, 342]\n"
     ]
    }
   ],
   "source": [
    "if __name__ == '__main__':\n",
    "    ptr = []\n",
    "    for i in range(5):\n",
    "        num = int(input('please input a number:\\n'))\n",
    "        ptr.append(num)\n",
    "    print (ptr)\n",
    "    ptr.reverse()\n",
    "    print( ptr)"
   ]
  },
  {
   "cell_type": "code",
   "execution_count": 21,
   "id": "c892da1e-c14d-45b7-babf-3e819f37a154",
   "metadata": {},
   "outputs": [
    {
     "name": "stdout",
     "output_type": "stream",
     "text": [
      "[1, 2, 3]\n",
      "[1, 2, 3, 3, 4, 5]\n",
      "[1, 2, 3, 3, 4, 5]\n"
     ]
    }
   ],
   "source": [
    "if __name__ == '__main__':\n",
    "    a = [1,3,2]\n",
    "    b = [3,4,5]\n",
    "    a.sort()     # 对列表 a 进行排序\n",
    "    print (a)\n",
    " \n",
    "    # 连接列表 a 与 b\n",
    "    print (a+b)\n",
    "    \n",
    "    # 连接列表 a 与 b\n",
    "    a.extend(b)\n",
    "    print (a)"
   ]
  },
  {
   "cell_type": "code",
   "execution_count": 23,
   "id": "9edb5ebd-8c9f-401f-8e9b-2508006e069b",
   "metadata": {},
   "outputs": [
    {
     "name": "stdout",
     "output_type": "stream",
     "text": [
      "67\n"
     ]
    }
   ],
   "source": [
    "if __name__ == '__main__':\n",
    "    for i in range(5):\n",
    "        n = 0\n",
    "        if i != 1: n += 1\n",
    "        if i == 3: n += 1\n",
    "        if i == 4: n += 1\n",
    "        if i != 4: n += 1\n",
    "        if n == 3: print(64 + i)"
   ]
  },
  {
   "cell_type": "code",
   "execution_count": 27,
   "id": "3341e8f3-e0e4-4d42-ae4e-167985cb8dbe",
   "metadata": {},
   "outputs": [
    {
     "name": "stdin",
     "output_type": "stream",
     "text": [
      "input a number:\n",
      " 31\n"
     ]
    },
    {
     "name": "stdout",
     "output_type": "stream",
     "text": [
      "2.368130698822023\n"
     ]
    }
   ],
   "source": [
    "def peven(n):\n",
    "    i = 0\n",
    "    s = 0.0\n",
    "    for i in range(2,n + 1,2):\n",
    "        s += 1.0 / i   # Python里，整数除整数，只能得出整数，所以需要使用 浮点数 1.0\n",
    "    return s\n",
    " \n",
    "def podd(n):\n",
    "    s = 0.0\n",
    "    for i in range(1, n + 1,2):\n",
    "        s += 1.0 / i    # Python里，整数除整数，只能得出整数，所以需要使用 浮点数 1.0\n",
    "    return s\n",
    " \n",
    "def dcall(fp,n):\n",
    "    s = fp(n)\n",
    "    return s\n",
    " \n",
    "if __name__ == '__main__':\n",
    "    n = int(input('input a number:\\n'))\n",
    "    if n % 2 == 0:\n",
    "        sum = dcall(peven,n)\n",
    "    else:\n",
    "        sum = dcall(podd,n)\n",
    "    print (sum)"
   ]
  },
  {
   "cell_type": "code",
   "execution_count": null,
   "id": "a128b6d0-2dd0-4282-9b51-b3332b5bcd07",
   "metadata": {},
   "outputs": [],
   "source": []
  }
 ],
 "metadata": {
  "kernelspec": {
   "display_name": "Python 3 (ipykernel)",
   "language": "python",
   "name": "python3"
  },
  "language_info": {
   "codemirror_mode": {
    "name": "ipython",
    "version": 3
   },
   "file_extension": ".py",
   "mimetype": "text/x-python",
   "name": "python",
   "nbconvert_exporter": "python",
   "pygments_lexer": "ipython3",
   "version": "3.12.4"
  }
 },
 "nbformat": 4,
 "nbformat_minor": 5
}
