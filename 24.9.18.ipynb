{
 "cells": [
  {
   "cell_type": "code",
   "execution_count": 1,
   "id": "93d8e957-29d4-4328-8721-215d4af9e012",
   "metadata": {},
   "outputs": [
    {
     "data": {
      "text/plain": [
       "9"
      ]
     },
     "execution_count": 1,
     "metadata": {},
     "output_type": "execute_result"
    }
   ],
   "source": [
    "def positive(x):\n",
    "    if x >= 0:\n",
    "        return x\n",
    "    else:\n",
    "        return -x\n",
    "    \n",
    "positive(-9)"
   ]
  },
  {
   "cell_type": "code",
   "execution_count": 19,
   "id": "21029b99-7257-4bf8-80a3-366b90096e67",
   "metadata": {},
   "outputs": [
    {
     "name": "stdout",
     "output_type": "stream",
     "text": [
      "6\n"
     ]
    }
   ],
   "source": [
    "def f(x):\n",
    "    if x>=0:\n",
    "        x+=3\n",
    "        print(x)\n",
    "    else:\n",
    "        x-=1\n",
    "        print(x)\n",
    "\n",
    "f(3)   "
   ]
  },
  {
   "cell_type": "code",
   "execution_count": 45,
   "id": "0e328b62-6229-49a0-90a4-6f2399e92f76",
   "metadata": {},
   "outputs": [
    {
     "name": "stdout",
     "output_type": "stream",
     "text": [
      "None\n",
      "None\n",
      "['Watermelon', 'Banana']\n"
     ]
    }
   ],
   "source": [
    "fruits = ['Apple', 'Watermelon', 'Banana']\n",
    "def filter_fruit(someList, d):\n",
    "    for i in someList:\n",
    "        if i == d:\n",
    "            someList.remove(i)\n",
    "        else:\n",
    "            pass\n",
    "\n",
    "print (filter_fruit(fruits, 'Melon'))\n",
    "print(filter_fruit(fruits,'Apple'))\n",
    "print (fruits)"
   ]
  },
  {
   "cell_type": "code",
   "execution_count": 47,
   "id": "8fe0bb95-e3f8-4b9a-bfe4-6fb018339f32",
   "metadata": {},
   "outputs": [
    {
     "name": "stdout",
     "output_type": "stream",
     "text": [
      "4 6 24\n"
     ]
    },
    {
     "data": {
      "text/plain": [
       "tuple"
      ]
     },
     "execution_count": 47,
     "metadata": {},
     "output_type": "execute_result"
    }
   ],
   "source": [
    "def test(i, j):\n",
    "    k = i * j\n",
    "    return i, j, k\n",
    "\n",
    "a , b , c = test(4,6)\n",
    "print (a, b , c)\n",
    "type(test(4, 6))"
   ]
  },
  {
   "cell_type": "code",
   "execution_count": 49,
   "id": "4e416df6-3de9-45f1-8d83-ebec82ee926f",
   "metadata": {},
   "outputs": [
    {
     "data": {
      "text/plain": [
       "9"
      ]
     },
     "execution_count": 49,
     "metadata": {},
     "output_type": "execute_result"
    }
   ],
   "source": [
    "myFunction = positive\n",
    "myFunction(-9)"
   ]
  },
  {
   "cell_type": "code",
   "execution_count": 53,
   "id": "4478db46-cd2e-486b-a3b5-c79b54d9492f",
   "metadata": {},
   "outputs": [
    {
     "data": {
      "text/plain": [
       "12"
      ]
     },
     "execution_count": 53,
     "metadata": {},
     "output_type": "execute_result"
    }
   ],
   "source": [
    "def add(x, y, f):\n",
    "    return f(x) + f(y)\n",
    "\n",
    "add(7, -5, positive)"
   ]
  },
  {
   "cell_type": "code",
   "execution_count": 55,
   "id": "25bd2754-228c-490f-930c-f1d71cfc95c5",
   "metadata": {},
   "outputs": [
    {
     "data": {
      "text/plain": [
       "12"
      ]
     },
     "execution_count": 55,
     "metadata": {},
     "output_type": "execute_result"
    }
   ],
   "source": [
    "def add(x, y, f):\n",
    "    return f(x) + f(y)\n",
    "\n",
    "add(7, -5, myFunction)"
   ]
  },
  {
   "cell_type": "code",
   "execution_count": null,
   "id": "b631ce83-f188-41ad-af81-940b3094fda3",
   "metadata": {},
   "outputs": [],
   "source": []
  }
 ],
 "metadata": {
  "kernelspec": {
   "display_name": "Python 3 (ipykernel)",
   "language": "python",
   "name": "python3"
  },
  "language_info": {
   "codemirror_mode": {
    "name": "ipython",
    "version": 3
   },
   "file_extension": ".py",
   "mimetype": "text/x-python",
   "name": "python",
   "nbconvert_exporter": "python",
   "pygments_lexer": "ipython3",
   "version": "3.12.4"
  }
 },
 "nbformat": 4,
 "nbformat_minor": 5
}
