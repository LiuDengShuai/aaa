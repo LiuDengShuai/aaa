{
 "cells": [
  {
   "cell_type": "code",
   "execution_count": 3,
   "id": "db0b4136-5c03-4de9-9d4a-e82e1bbd1779",
   "metadata": {},
   "outputs": [
    {
     "name": "stdout",
     "output_type": "stream",
     "text": [
      "<class 'int'> <class 'float'>\n"
     ]
    }
   ],
   "source": [
    "x1 = 10\n",
    "x2 = 10.0\n",
    "print(type(x1),type(x2))"
   ]
  },
  {
   "cell_type": "code",
   "execution_count": 5,
   "id": "899adf34-a64e-4c56-9ddc-8a2704727bdd",
   "metadata": {},
   "outputs": [
    {
     "name": "stdout",
     "output_type": "stream",
     "text": [
      "True <class 'bool'>\n",
      "True\n",
      "True\n",
      "10\n"
     ]
    }
   ],
   "source": [
    "x3 = True\n",
    "print(x3,type(x3))\n",
    "print(True == 1)\n",
    "print(False == 0)\n",
    "print(True * 10)"
   ]
  },
  {
   "cell_type": "code",
   "execution_count": 7,
   "id": "a2d1402a-74fc-4a9d-b821-f46111b2ae8b",
   "metadata": {},
   "outputs": [
    {
     "name": "stdout",
     "output_type": "stream",
     "text": [
      "{1, 2, 3, 4, 'liu'}\n"
     ]
    }
   ],
   "source": [
    "set={1,2,3,4,'liu'}\n",
    "print(set)"
   ]
  },
  {
   "cell_type": "code",
   "execution_count": 9,
   "id": "e03952cb-0a45-4e45-845d-80ca40b52e5a",
   "metadata": {},
   "outputs": [
    {
     "name": "stdout",
     "output_type": "stream",
     "text": [
      "{1, 2, 3, 4, 'deng', 'liu'}\n"
     ]
    }
   ],
   "source": [
    "set.add('deng')\n",
    "print(set)"
   ]
  },
  {
   "cell_type": "code",
   "execution_count": 11,
   "id": "9927f4f1-acfc-442f-a29d-3a9e0c280569",
   "metadata": {},
   "outputs": [
    {
     "name": "stdout",
     "output_type": "stream",
     "text": [
      "{1, 2, 3, 4, 'deng'}\n"
     ]
    }
   ],
   "source": [
    "set.remove('liu')\n",
    "print(set)"
   ]
  },
  {
   "cell_type": "code",
   "execution_count": 37,
   "id": "ee9cfbc9-7692-401d-ba0e-b40eeba00698",
   "metadata": {},
   "outputs": [
    {
     "name": "stdout",
     "output_type": "stream",
     "text": [
      "{3, 4}\n"
     ]
    }
   ],
   "source": [
    "set1={1,2,3,4}\n",
    "set2={3,4,34}\n",
    "x=set1&set2\n",
    "print(x)"
   ]
  },
  {
   "cell_type": "code",
   "execution_count": 41,
   "id": "6b6cde73-4f91-47d9-b9dd-70f7ffb3ffc1",
   "metadata": {},
   "outputs": [
    {
     "name": "stdout",
     "output_type": "stream",
     "text": [
      "{1, 2, 3, 4, 34}\n",
      "{1, 2}\n"
     ]
    }
   ],
   "source": [
    "y=set1|set2\n",
    "z=set1-set2\n",
    "print(y)\n",
    "print(z)"
   ]
  },
  {
   "cell_type": "code",
   "execution_count": null,
   "id": "2c3f9c52-9ae0-44e7-a5d4-b5dc340240c6",
   "metadata": {},
   "outputs": [],
   "source": []
  }
 ],
 "metadata": {
  "kernelspec": {
   "display_name": "Python 3 (ipykernel)",
   "language": "python",
   "name": "python3"
  },
  "language_info": {
   "codemirror_mode": {
    "name": "ipython",
    "version": 3
   },
   "file_extension": ".py",
   "mimetype": "text/x-python",
   "name": "python",
   "nbconvert_exporter": "python",
   "pygments_lexer": "ipython3",
   "version": "3.12.4"
  }
 },
 "nbformat": 4,
 "nbformat_minor": 5
}
