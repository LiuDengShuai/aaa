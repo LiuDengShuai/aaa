{
 "cells": [
  {
   "cell_type": "code",
   "execution_count": 3,
   "id": "baadcb61-ac44-4b67-83e9-f28b1e201fc7",
   "metadata": {},
   "outputs": [
    {
     "name": "stdout",
     "output_type": "stream",
     "text": [
      "2\n"
     ]
    }
   ],
   "source": [
    "sStr1 = 'abcdefg'\n",
    "sStr2 = 'cde'\n",
    "print (sStr1.find(sStr2))"
   ]
  },
  {
   "cell_type": "code",
   "execution_count": 7,
   "id": "910aab41-9eab-47f0-80f5-4e1d417a0301",
   "metadata": {},
   "outputs": [
    {
     "ename": "IndentationError",
     "evalue": "unexpected indent (3813585035.py, line 3)",
     "output_type": "error",
     "traceback": [
      "\u001b[1;36m  Cell \u001b[1;32mIn[7], line 3\u001b[1;36m\u001b[0m\n\u001b[1;33m    x = 360\u001b[0m\n\u001b[1;37m    ^\u001b[0m\n\u001b[1;31mIndentationError\u001b[0m\u001b[1;31m:\u001b[0m unexpected indent\n"
     ]
    }
   ],
   "source": [
    "if __name__ == '__main__':\n",
    " import Tkinter \n",
    "    x = 360\n",
    "    y = 160\n",
    "    top = y - 30\n",
    "    bottom = y - 30\n",
    "    \n",
    "    canvas = Canvas(width = 400,height = 600,bg = 'white')\n",
    "    for i in range(20):\n",
    "        canvas.create_oval(250 - top,250 - bottom,250 + top,250 + bottom)\n",
    "        top -= 5\n",
    "        bottom += 5\n",
    "    canvas.pack()\n",
    "    mainloop()"
   ]
  },
  {
   "cell_type": "code",
   "execution_count": 9,
   "id": "ff586c5b-132b-4670-ba6c-8b50b2eee803",
   "metadata": {},
   "outputs": [
    {
     "ename": "IndentationError",
     "evalue": "unexpected indent (3978942682.py, line 3)",
     "output_type": "error",
     "traceback": [
      "\u001b[1;36m  Cell \u001b[1;32mIn[9], line 3\u001b[1;36m\u001b[0m\n\u001b[1;33m    canvas = Canvas(width = 400,height = 600,bg = 'white')\u001b[0m\n\u001b[1;37m    ^\u001b[0m\n\u001b[1;31mIndentationError\u001b[0m\u001b[1;31m:\u001b[0m unexpected indent\n"
     ]
    }
   ],
   "source": [
    "if __name__ == '__main__':\n",
    "   import Tkinter\n",
    "    canvas = Canvas(width = 400,height = 600,bg = 'white')\n",
    "    left = 20\n",
    "    right = 50\n",
    "    top = 50\n",
    "    num = 15\n",
    "    for i in range(num):\n",
    "        canvas.create_oval(250 - right,250 - left,250 + right,250 + left)\n",
    "        canvas.create_oval(250 - 20,250 - top,250 + 20,250 + top)\n",
    "        canvas.create_rectangle(20 - 2 * i,20 - 2 * i,10 * (i + 2),10 * ( i + 2))\n",
    "        right += 5\n",
    "        left += 5\n",
    "        top += 10\n",
    "\n",
    "    canvas.pack()\n",
    "    mainloop()"
   ]
  },
  {
   "cell_type": "code",
   "execution_count": 13,
   "id": "0e0ede44-82e1-477c-b32d-92e61ffa7689",
   "metadata": {},
   "outputs": [
    {
     "ename": "NameError",
     "evalue": "name 'raw_input' is not defined",
     "output_type": "error",
     "traceback": [
      "\u001b[1;31m---------------------------------------------------------------------------\u001b[0m",
      "\u001b[1;31mNameError\u001b[0m                                 Traceback (most recent call last)",
      "Cell \u001b[1;32mIn[13], line 2\u001b[0m\n\u001b[0;32m      1\u001b[0m \u001b[38;5;28;01mif\u001b[39;00m \u001b[38;5;18m__name__\u001b[39m \u001b[38;5;241m==\u001b[39m \u001b[38;5;124m'\u001b[39m\u001b[38;5;124m__main__\u001b[39m\u001b[38;5;124m'\u001b[39m:\n\u001b[1;32m----> 2\u001b[0m     n1 \u001b[38;5;241m=\u001b[39m \u001b[38;5;28mint\u001b[39m(raw_input(\u001b[38;5;124m'\u001b[39m\u001b[38;5;124mn1 = :\u001b[39m\u001b[38;5;130;01m\\n\u001b[39;00m\u001b[38;5;124m'\u001b[39m))\n\u001b[0;32m      3\u001b[0m     n2 \u001b[38;5;241m=\u001b[39m \u001b[38;5;28mint\u001b[39m(raw_input(\u001b[38;5;124m'\u001b[39m\u001b[38;5;124mn2 = :\u001b[39m\u001b[38;5;130;01m\\n\u001b[39;00m\u001b[38;5;124m'\u001b[39m))\n\u001b[0;32m      4\u001b[0m     n3 \u001b[38;5;241m=\u001b[39m \u001b[38;5;28mint\u001b[39m(raw_input(\u001b[38;5;124m'\u001b[39m\u001b[38;5;124mn3 = :\u001b[39m\u001b[38;5;130;01m\\n\u001b[39;00m\u001b[38;5;124m'\u001b[39m))\n",
      "\u001b[1;31mNameError\u001b[0m: name 'raw_input' is not defined"
     ]
    }
   ],
   "source": [
    "if __name__ == '__main__':\n",
    "    n1 = int(raw_input('n1 = :\\n'))\n",
    "    n2 = int(raw_input('n2 = :\\n'))\n",
    "    n3 = int(raw_input('n3 = :\\n'))\n",
    " \n",
    "    def swap(p1,p2):\n",
    "        return p2,p1\n",
    " \n",
    "    if n1 > n2 : n1,n2 = swap(n1,n2)\n",
    "    if n1 > n3 : n1,n3 = swap(n1,n3)\n",
    "    if n2 > n3 : n2,n3 = swap(n2,n3)\n",
    " \n",
    "    print (n1,n2,n3)"
   ]
  },
  {
   "cell_type": "code",
   "execution_count": 17,
   "id": "3dfe1a0a-a97c-4577-b99c-002783eb6d6d",
   "metadata": {},
   "outputs": [
    {
     "ename": "NameError",
     "evalue": "name 'raw_input' is not defined",
     "output_type": "error",
     "traceback": [
      "\u001b[1;31m---------------------------------------------------------------------------\u001b[0m",
      "\u001b[1;31mNameError\u001b[0m                                 Traceback (most recent call last)",
      "Cell \u001b[1;32mIn[17], line 27\u001b[0m\n\u001b[0;32m     25\u001b[0m \u001b[38;5;28;01mif\u001b[39;00m \u001b[38;5;18m__name__\u001b[39m \u001b[38;5;241m==\u001b[39m \u001b[38;5;124m'\u001b[39m\u001b[38;5;124m__main__\u001b[39m\u001b[38;5;124m'\u001b[39m:\n\u001b[0;32m     26\u001b[0m     array \u001b[38;5;241m=\u001b[39m []\n\u001b[1;32m---> 27\u001b[0m     inp(array)        \u001b[38;5;66;03m# 输入 6 个数字并放入数组\u001b[39;00m\n\u001b[0;32m     28\u001b[0m     arr_max(array)    \u001b[38;5;66;03m# 获取最大元素并与第一个元素交换\u001b[39;00m\n\u001b[0;32m     29\u001b[0m     arr_min(array)    \u001b[38;5;66;03m# 获取最小元素并与最后一个元素交换\u001b[39;00m\n",
      "Cell \u001b[1;32mIn[17], line 3\u001b[0m, in \u001b[0;36minp\u001b[1;34m(numbers)\u001b[0m\n\u001b[0;32m      1\u001b[0m \u001b[38;5;28;01mdef\u001b[39;00m \u001b[38;5;21minp\u001b[39m(numbers):\n\u001b[0;32m      2\u001b[0m     \u001b[38;5;28;01mfor\u001b[39;00m i \u001b[38;5;129;01min\u001b[39;00m \u001b[38;5;28mrange\u001b[39m(\u001b[38;5;241m6\u001b[39m):\n\u001b[1;32m----> 3\u001b[0m         numbers\u001b[38;5;241m.\u001b[39mappend(\u001b[38;5;28mint\u001b[39m(raw_input(\u001b[38;5;124m'\u001b[39m\u001b[38;5;124m输入一个数字:\u001b[39m\u001b[38;5;130;01m\\n\u001b[39;00m\u001b[38;5;124m'\u001b[39m)))\n",
      "\u001b[1;31mNameError\u001b[0m: name 'raw_input' is not defined"
     ]
    }
   ],
   "source": [
    "def inp(numbers):\n",
    "    for i in range(6):\n",
    "        numbers.append(int(raw_input('输入一个数字:\\n')))\n",
    "p = 0\n",
    " \n",
    "def arr_max(array):\n",
    "    max = 0\n",
    "    for i in range(1,len(array) - 1):\n",
    "        p = i\n",
    "        if array[p] > array[max] : max = p\n",
    "    k = max\n",
    "    array[0],array[k] = array[k],array[0]\n",
    "def arr_min(array):\n",
    "    min = 0\n",
    "    for i in range(1,len(array) - 1):\n",
    "        p = i\n",
    "        if array[p] < array[min] : min = p\n",
    "    l = min\n",
    "    array[5],array[l] = array[l],array[5]\n",
    " \n",
    "def outp(numbers):\n",
    "    for i  in range(len(numbers)):\n",
    "        print (numbers[i])\n",
    " \n",
    "if __name__ == '__main__':\n",
    "    array = []\n",
    "    inp(array)        # 输入 6 个数字并放入数组\n",
    "    arr_max(array)    # 获取最大元素并与第一个元素交换\n",
    "    arr_min(array)    # 获取最小元素并与最后一个元素交换\n",
    "    print ('计算结果：')\n",
    "    outp(array)"
   ]
  },
  {
   "cell_type": "code",
   "execution_count": 21,
   "id": "7a520596-6dc6-4b59-bd8b-6574178f4ec7",
   "metadata": {},
   "outputs": [
    {
     "ename": "SyntaxError",
     "evalue": "Missing parentheses in call to 'print'. Did you mean print(...)? (1511831275.py, line 16)",
     "output_type": "error",
     "traceback": [
      "\u001b[1;36m  Cell \u001b[1;32mIn[21], line 16\u001b[1;36m\u001b[0m\n\u001b[1;33m    print '原始列表:',number\u001b[0m\n\u001b[1;37m    ^\u001b[0m\n\u001b[1;31mSyntaxError\u001b[0m\u001b[1;31m:\u001b[0m Missing parentheses in call to 'print'. Did you mean print(...)?\n"
     ]
    }
   ],
   "source": [
    "if __name__ == '__main__':\n",
    "    n = int(raw_input('整数 n 为:\\n'))\n",
    "    m = int(raw_input('向后移 m 个位置为:\\n'))\n",
    " \n",
    "    def move(array,n,m):\n",
    "        array_end = array[n - 1]\n",
    "        for i in range(n - 1,-1,- 1):\n",
    "            array[i] = array[i - 1]\n",
    "        array[0] = array_end\n",
    "        m -= 1\n",
    "        if m > 0:move(array,n,m)\n",
    "        \n",
    "    number = []\n",
    "    for i in range(n):\n",
    "        number.append(int(raw_input('输入一个数字:\\n')))\n",
    "    print '原始列表:',number\n",
    " \n",
    "    move(number,n,m)\n",
    " \n",
    "    print ('移动之后:',number)"
   ]
  },
  {
   "cell_type": "code",
   "execution_count": 25,
   "id": "61cb3453-9a17-4ab7-8c4f-f2e032030c8f",
   "metadata": {},
   "outputs": [
    {
     "ename": "NameError",
     "evalue": "name 'raw_input' is not defined",
     "output_type": "error",
     "traceback": [
      "\u001b[1;31m---------------------------------------------------------------------------\u001b[0m",
      "\u001b[1;31mNameError\u001b[0m                                 Traceback (most recent call last)",
      "Cell \u001b[1;32mIn[25], line 3\u001b[0m\n\u001b[0;32m      1\u001b[0m \u001b[38;5;28;01mif\u001b[39;00m \u001b[38;5;18m__name__\u001b[39m \u001b[38;5;241m==\u001b[39m \u001b[38;5;124m'\u001b[39m\u001b[38;5;124m__main__\u001b[39m\u001b[38;5;124m'\u001b[39m:\n\u001b[0;32m      2\u001b[0m     nmax \u001b[38;5;241m=\u001b[39m \u001b[38;5;241m50\u001b[39m\n\u001b[1;32m----> 3\u001b[0m     n \u001b[38;5;241m=\u001b[39m \u001b[38;5;28mint\u001b[39m(raw_input(\u001b[38;5;124m'\u001b[39m\u001b[38;5;124m请输入总人数:\u001b[39m\u001b[38;5;124m'\u001b[39m))\n\u001b[0;32m      4\u001b[0m     num \u001b[38;5;241m=\u001b[39m []\n\u001b[0;32m      5\u001b[0m     \u001b[38;5;28;01mfor\u001b[39;00m i \u001b[38;5;129;01min\u001b[39;00m \u001b[38;5;28mrange\u001b[39m(n):\n",
      "\u001b[1;31mNameError\u001b[0m: name 'raw_input' is not defined"
     ]
    }
   ],
   "source": [
    "if __name__ == '__main__':\n",
    "    nmax = 50\n",
    "    n = int(raw_input('请输入总人数:'))\n",
    "    num = []\n",
    "    for i in range(n):\n",
    "        num.append(i + 1)\n",
    " \n",
    "    i = 0\n",
    "    k = 0\n",
    "    m = 0\n",
    " \n",
    "    while m < n - 1:\n",
    "        if num[i] != 0 : k += 1\n",
    "        if k == 3:\n",
    "            num[i] = 0\n",
    "            k = 0\n",
    "            m += 1\n",
    "        i += 1\n",
    "        if i == n : i = 0\n",
    " \n",
    "    i = 0\n",
    "    while num[i] == 0: i += 1\n",
    "    print( num[i])"
   ]
  },
  {
   "cell_type": "code",
   "execution_count": null,
   "id": "21808bb3-f2c7-4b57-83eb-0482e89cb9bb",
   "metadata": {},
   "outputs": [],
   "source": []
  }
 ],
 "metadata": {
  "kernelspec": {
   "display_name": "Python 3 (ipykernel)",
   "language": "python",
   "name": "python3"
  },
  "language_info": {
   "codemirror_mode": {
    "name": "ipython",
    "version": 3
   },
   "file_extension": ".py",
   "mimetype": "text/x-python",
   "name": "python",
   "nbconvert_exporter": "python",
   "pygments_lexer": "ipython3",
   "version": "3.12.4"
  }
 },
 "nbformat": 4,
 "nbformat_minor": 5
}
