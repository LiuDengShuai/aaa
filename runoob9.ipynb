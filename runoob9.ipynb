{
 "cells": [
  {
   "cell_type": "code",
   "execution_count": 7,
   "id": "b197f31d-1d4f-4dd7-989e-0b26f786bb1b",
   "metadata": {},
   "outputs": [
    {
     "name": "stderr",
     "output_type": "stream",
     "text": [
      "ERROR: Could not find a version that satisfies the requirement tkinter (from versions: none)\n",
      "ERROR: No matching distribution found for tkinter\n"
     ]
    },
    {
     "ename": "NameError",
     "evalue": "name 'Canvas' is not defined",
     "output_type": "error",
     "traceback": [
      "\u001b[1;31m---------------------------------------------------------------------------\u001b[0m",
      "\u001b[1;31mNameError\u001b[0m                                 Traceback (most recent call last)",
      "Cell \u001b[1;32mIn[7], line 5\u001b[0m\n\u001b[0;32m      2\u001b[0m \u001b[38;5;28;01mif\u001b[39;00m \u001b[38;5;18m__name__\u001b[39m \u001b[38;5;241m==\u001b[39m \u001b[38;5;124m'\u001b[39m\u001b[38;5;124m__main__\u001b[39m\u001b[38;5;124m'\u001b[39m:\n\u001b[0;32m      3\u001b[0m     \u001b[38;5;28;01mimport\u001b[39;00m \u001b[38;5;21;01mtkinter\u001b[39;00m\n\u001b[1;32m----> 5\u001b[0m     canvas \u001b[38;5;241m=\u001b[39m Canvas(width\u001b[38;5;241m=\u001b[39m\u001b[38;5;241m300\u001b[39m, height\u001b[38;5;241m=\u001b[39m\u001b[38;5;241m300\u001b[39m, bg\u001b[38;5;241m=\u001b[39m\u001b[38;5;124m'\u001b[39m\u001b[38;5;124mgreen\u001b[39m\u001b[38;5;124m'\u001b[39m)   \n\u001b[0;32m      6\u001b[0m     canvas\u001b[38;5;241m.\u001b[39mpack(expand\u001b[38;5;241m=\u001b[39mYES, fill\u001b[38;5;241m=\u001b[39mBOTH)                  \n\u001b[0;32m      7\u001b[0m     x0 \u001b[38;5;241m=\u001b[39m \u001b[38;5;241m263\u001b[39m\n",
      "\u001b[1;31mNameError\u001b[0m: name 'Canvas' is not defined"
     ]
    }
   ],
   "source": [
    "!pip install tkinter\n",
    "if __name__ == '__main__':\n",
    "    import tkinter\n",
    " \n",
    "    canvas = Canvas(width=300, height=300, bg='green')   \n",
    "    canvas.pack(expand=YES, fill=BOTH)                  \n",
    "    x0 = 263\n",
    "    y0 = 263\n",
    "    y1 = 275\n",
    "    x1 = 275\n",
    "    for i in range(19):\n",
    "        canvas.create_line(x0,y0,x0,y1, width=1, fill='red')\n",
    "        x0 = x0 - 5\n",
    "        y0 = y0 - 5\n",
    "        x1 = x1 + 5\n",
    "        y1 = y1 + 5\n",
    " \n",
    "    x0 = 263\n",
    "    y1 = 275\n",
    "    y0 = 263\n",
    "    for i in range(21):\n",
    "        canvas.create_line(x0,y0,x0,y1,fill = 'red')\n",
    "        x0 += 5\n",
    "        y0 += 5\n",
    "        y1 += 5\n",
    " \n",
    "    mainloop()\n",
    "    mainloop()"
   ]
  },
  {
   "cell_type": "code",
   "execution_count": 9,
   "id": "cf66fafd-ab97-4b66-8901-f33622954856",
   "metadata": {},
   "outputs": [
    {
     "ename": "ModuleNotFoundError",
     "evalue": "No module named 'Tkinter'",
     "output_type": "error",
     "traceback": [
      "\u001b[1;31m---------------------------------------------------------------------------\u001b[0m",
      "\u001b[1;31mModuleNotFoundError\u001b[0m                       Traceback (most recent call last)",
      "Cell \u001b[1;32mIn[9], line 2\u001b[0m\n\u001b[0;32m      1\u001b[0m \u001b[38;5;28;01mif\u001b[39;00m \u001b[38;5;18m__name__\u001b[39m \u001b[38;5;241m==\u001b[39m \u001b[38;5;124m'\u001b[39m\u001b[38;5;124m__main__\u001b[39m\u001b[38;5;124m'\u001b[39m:\n\u001b[1;32m----> 2\u001b[0m     \u001b[38;5;28;01mfrom\u001b[39;00m \u001b[38;5;21;01mTkinter\u001b[39;00m \u001b[38;5;28;01mimport\u001b[39;00m \u001b[38;5;241m*\u001b[39m\n\u001b[0;32m      3\u001b[0m     root \u001b[38;5;241m=\u001b[39m Tk()\n\u001b[0;32m      4\u001b[0m     root\u001b[38;5;241m.\u001b[39mtitle(\u001b[38;5;124m'\u001b[39m\u001b[38;5;124mCanvas\u001b[39m\u001b[38;5;124m'\u001b[39m)\n",
      "\u001b[1;31mModuleNotFoundError\u001b[0m: No module named 'Tkinter'"
     ]
    }
   ],
   "source": [
    "if __name__ == '__main__':\n",
    "    from Tkinter import *\n",
    "    root = Tk()\n",
    "    root.title('Canvas')\n",
    "    canvas = Canvas(root,width = 400,height = 400,bg = 'yellow')\n",
    "    x0 = 263\n",
    "    y0 = 263\n",
    "    y1 = 275\n",
    "    x1 = 275\n",
    "    for i in range(19):\n",
    "        canvas.create_rectangle(x0,y0,x1,y1)\n",
    "        x0 -= 5\n",
    "        y0 -= 5\n",
    "        x1 += 5\n",
    "        y1 += 5\n",
    "        \n",
    "    canvas.pack()\n",
    "    root.mainloop()"
   ]
  },
  {
   "cell_type": "code",
   "execution_count": 11,
   "id": "bdc3ef6f-1681-48d8-9589-7746df681433",
   "metadata": {},
   "outputs": [
    {
     "ename": "ModuleNotFoundError",
     "evalue": "No module named 'Tkinter'",
     "output_type": "error",
     "traceback": [
      "\u001b[1;31m---------------------------------------------------------------------------\u001b[0m",
      "\u001b[1;31mModuleNotFoundError\u001b[0m                       Traceback (most recent call last)",
      "Cell \u001b[1;32mIn[11], line 2\u001b[0m\n\u001b[0;32m      1\u001b[0m \u001b[38;5;28;01mif\u001b[39;00m \u001b[38;5;18m__name__\u001b[39m  \u001b[38;5;241m==\u001b[39m \u001b[38;5;124m'\u001b[39m\u001b[38;5;124m__main__\u001b[39m\u001b[38;5;124m'\u001b[39m:\n\u001b[1;32m----> 2\u001b[0m     \u001b[38;5;28;01mfrom\u001b[39;00m \u001b[38;5;21;01mTkinter\u001b[39;00m \u001b[38;5;28;01mimport\u001b[39;00m \u001b[38;5;241m*\u001b[39m\n\u001b[0;32m      3\u001b[0m     canvas \u001b[38;5;241m=\u001b[39m Canvas(width \u001b[38;5;241m=\u001b[39m \u001b[38;5;241m300\u001b[39m,height \u001b[38;5;241m=\u001b[39m \u001b[38;5;241m300\u001b[39m,bg \u001b[38;5;241m=\u001b[39m \u001b[38;5;124m'\u001b[39m\u001b[38;5;124mgreen\u001b[39m\u001b[38;5;124m'\u001b[39m)\n\u001b[0;32m      4\u001b[0m     canvas\u001b[38;5;241m.\u001b[39mpack(expand \u001b[38;5;241m=\u001b[39m YES,fill \u001b[38;5;241m=\u001b[39m BOTH)\n",
      "\u001b[1;31mModuleNotFoundError\u001b[0m: No module named 'Tkinter'"
     ]
    }
   ],
   "source": [
    "if __name__  == '__main__':\n",
    "    from Tkinter import *\n",
    "    canvas = Canvas(width = 300,height = 300,bg = 'green')\n",
    "    canvas.pack(expand = YES,fill = BOTH)\n",
    "    x0 = 150\n",
    "    y0 = 100\n",
    "    canvas.create_oval(x0 - 10,y0 - 10,x0 + 10,y0 + 10)\n",
    "    canvas.create_oval(x0 - 20,y0 - 20,x0 + 20,y0 + 20)\n",
    "    canvas.create_oval(x0 - 50,y0 - 50,x0 + 50,y0 + 50)\n",
    "    import math\n",
    "    B = 0.809\n",
    "    for i in range(16):\n",
    "        a = 2 * math.pi / 16 * i\n",
    "        x = math.ceil(x0 + 48 * math.cos(a))\n",
    "        y = math.ceil(y0 + 48 * math.sin(a) * B)\n",
    "        canvas.create_line(x0,y0,x,y,fill = 'red')\n",
    "    canvas.create_oval(x0 - 60,y0 - 60,x0 + 60,y0 + 60)\n",
    "    \n",
    "\n",
    "    for k in range(501):\n",
    "        for i in range(17):\n",
    "            a = (2 * math.pi / 16) * i + (2 * math.pi / 180) * k\n",
    "            x = math.ceil(x0 + 48 * math.cos(a))\n",
    "            y = math.ceil(y0 + 48 + math.sin(a) * B)\n",
    "            canvas.create_line(x0,y0,x,y,fill = 'red')\n",
    "        for j in range(51):\n",
    "            a = (2 * math.pi / 16) * i + (2* math.pi / 180) * k - 1\n",
    "            x = math.ceil(x0 + 48 * math.cos(a))\n",
    "            y = math.ceil(y0 + 48 * math.sin(a) * B)\n",
    "            canvas.create_line(x0,y0,x,y,fill = 'red')\n",
    "    mainloop()"
   ]
  },
  {
   "cell_type": "code",
   "execution_count": 15,
   "id": "dc9be8f5-a6b7-40c0-8c64-f673e01a9e0b",
   "metadata": {},
   "outputs": [
    {
     "name": "stdout",
     "output_type": "stream",
     "text": [
      "6\n"
     ]
    }
   ],
   "source": [
    "sStr1 = 'strlen'\n",
    "print (len(sStr1))"
   ]
  },
  {
   "cell_type": "code",
   "execution_count": 17,
   "id": "172975fb-d016-49c8-b563-892c8d69b1dd",
   "metadata": {},
   "outputs": [
    {
     "name": "stdout",
     "output_type": "stream",
     "text": [
      "1 1 1 1 2 1 1 3 3 1 1 4 6 4 1 1 5 10 10 5 1 1 6 15 20 15 6 1 1 7 21 35 35 21 7 1 1 8 28 56 70 56 28 8 1 1 9 36 84 126 126 84 36 9 1 "
     ]
    }
   ],
   "source": [
    "if __name__ == '__main__':\n",
    "    a = []\n",
    "    for i in range(10):\n",
    "        a.append([])\n",
    "        for j in range(10):\n",
    "            a[i].append(0)\n",
    "    for i in range(10):\n",
    "        a[i][0] = 1\n",
    "        a[i][i] = 1\n",
    "    for i in range(2,10):\n",
    "        for j in range(1,i):\n",
    "            a[i][j] = a[i - 1][j-1] + a[i - 1][j]\n",
    "    from sys import stdout\n",
    "    for i in range(10):\n",
    "        for j in range(i + 1):\n",
    "            stdout.write(str(a[i][j]))\n",
    "            stdout.write(' ')\n",
    "        print"
   ]
  },
  {
   "cell_type": "code",
   "execution_count": null,
   "id": "ab74bf60-4780-49b2-947f-c5e7a542b185",
   "metadata": {},
   "outputs": [],
   "source": []
  }
 ],
 "metadata": {
  "kernelspec": {
   "display_name": "Python 3 (ipykernel)",
   "language": "python",
   "name": "python3"
  },
  "language_info": {
   "codemirror_mode": {
    "name": "ipython",
    "version": 3
   },
   "file_extension": ".py",
   "mimetype": "text/x-python",
   "name": "python",
   "nbconvert_exporter": "python",
   "pygments_lexer": "ipython3",
   "version": "3.12.4"
  }
 },
 "nbformat": 4,
 "nbformat_minor": 5
}
