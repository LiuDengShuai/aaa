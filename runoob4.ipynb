{
 "cells": [
  {
   "cell_type": "code",
   "execution_count": 1,
   "id": "b0563016-1d12-4a87-8678-2ab37f36696a",
   "metadata": {},
   "outputs": [
    {
     "name": "stdout",
     "output_type": "stream",
     "text": [
      "6\n",
      "1 2 3\n",
      "28\n",
      "1 2 4 7 14\n",
      "496\n",
      "1 2 4 8 16 31 62 124 248\n"
     ]
    }
   ],
   "source": [
    "from sys import stdout\n",
    "for j in range(2,1001):\n",
    "    k = []\n",
    "    n = -1\n",
    "    s = j\n",
    "    for i in range(1,j):\n",
    "            if j % i == 0:\n",
    "                n += 1\n",
    "                s -= i\n",
    "                k.append(i)\n",
    "    \n",
    "    if s == 0:\n",
    "        print (j)\n",
    "        for i in range(n):\n",
    "            stdout.write(str(k[i]))\n",
    "            stdout.write(' ')\n",
    "        print (k[n])"
   ]
  },
  {
   "cell_type": "code",
   "execution_count": 3,
   "id": "afa237e9-b1e5-4e12-b469-a1e96398289e",
   "metadata": {},
   "outputs": [
    {
     "name": "stdout",
     "output_type": "stream",
     "text": [
      "总高度：tour = 299.609375\n",
      "第10次反弹高度：height = 0.09765625\n"
     ]
    }
   ],
   "source": [
    "tour = []\n",
    "height = []\n",
    " \n",
    "initial_height = 100.0  # 初始高度\n",
    "num_bounces = 10  # 弹跳次数\n",
    " \n",
    "for i in range(1, num_bounces + 1):\n",
    "    # 从第二次开始，落地时的距离应该是反弹高度乘以2（弹到最高点再落下）\n",
    "    if i == 1:\n",
    "        tour.append(initial_height)\n",
    "    else:\n",
    "        tour.append(2 * initial_height)\n",
    "    \n",
    "    initial_height /= 2\n",
    "    height.append(initial_height)\n",
    " \n",
    "total_distance = sum(tour)\n",
    "final_bounce_height = height[-1]\n",
    " \n",
    "print(f\"总高度：tour = {total_distance}\")\n",
    "print(f\"第{num_bounces}次反弹高度：height = {final_bounce_height}\")"
   ]
  },
  {
   "cell_type": "code",
   "execution_count": 5,
   "id": "e35b6a97-3682-4967-80be-6570e41f375f",
   "metadata": {},
   "outputs": [
    {
     "name": "stdout",
     "output_type": "stream",
     "text": [
      "第10次落地时，共经过 299.609375 米。\n",
      "第10次反弹的高度为 0.09765625 米。\n"
     ]
    }
   ],
   "source": [
    "def calculate_distance_and_height(height, times):\n",
    "    total_distance = 0\n",
    "    current_height = height\n",
    "\n",
    "    for i in range(1, times + 1):\n",
    "        # 从第二次开始，落地时的距离应该是反弹高度乘以2（弹到最高点再落下）\n",
    "        if i == 1:\n",
    "            total_distance += current_height\n",
    "        else:\n",
    "            total_distance += current_height * 2  # 每次下落和反弹的距离\n",
    "        current_height /= 2  # 反弹后的高度\n",
    "\n",
    "    return total_distance, current_height\n",
    "\n",
    "# 初始高度为100米，计算第10次落地时的总距离和反弹高度\n",
    "height = 100\n",
    "bounce_times = 10\n",
    "total_distance, final_height = calculate_distance_and_height(height, bounce_times)\n",
    "\n",
    "print(f\"第{bounce_times}次落地时，共经过 {total_distance} 米。\")\n",
    "print(f\"第{bounce_times}次反弹的高度为 {final_height} 米。\")"
   ]
  },
  {
   "cell_type": "code",
   "execution_count": 7,
   "id": "4d4d9d16-acb0-4285-a831-c2c25c846351",
   "metadata": {},
   "outputs": [
    {
     "name": "stdout",
     "output_type": "stream",
     "text": [
      "1534\n"
     ]
    }
   ],
   "source": [
    "x2 = 1\n",
    "for day in range(9,0,-1):\n",
    "    x1 = (x2 + 1) * 2\n",
    "    x2 = x1\n",
    "print (x1)"
   ]
  },
  {
   "cell_type": "code",
   "execution_count": 9,
   "id": "aa3c6c4f-2fcb-4910-ab7e-4441a15651f3",
   "metadata": {},
   "outputs": [
    {
     "name": "stdout",
     "output_type": "stream",
     "text": [
      "order is a -- z\t b -- x\tc--y\n"
     ]
    }
   ],
   "source": [
    "for i in range(ord('x'),ord('z') + 1):\n",
    "    for j in range(ord('x'),ord('z') + 1):\n",
    "        if i != j:\n",
    "            for k in range(ord('x'),ord('z') + 1):\n",
    "                if (i != k) and (j != k):\n",
    "                    if (i != ord('x')) and (k != ord('x')) and (k != ord('z')):\n",
    "                        print ('order is a -- %s\\t b -- %s\\tc--%s' % (chr(i),chr(j),chr(k)))"
   ]
  },
  {
   "cell_type": "code",
   "execution_count": 11,
   "id": "4d0bda3d-3944-4f20-9814-bfa119f5342e",
   "metadata": {},
   "outputs": [
    {
     "name": "stdout",
     "output_type": "stream",
     "text": [
      "   *\n",
      "  ***\n",
      " *****\n",
      "*******\n",
      " *****\n",
      "  ***\n",
      "   *\n"
     ]
    }
   ],
   "source": [
    "from sys import stdout\n",
    "for i in range(4):\n",
    "    for j in range(2 - i + 1):\n",
    "        stdout.write(' ')\n",
    "    for k in range(2 * i + 1):\n",
    "        stdout.write('*')\n",
    "    print('')\n",
    " \n",
    "for i in range(3):\n",
    "    for j in range(i + 1):\n",
    "        stdout.write(' ')\n",
    "    for k in range(4 - 2 * i + 1):\n",
    "        stdout.write('*')\n",
    "    print('')"
   ]
  },
  {
   "cell_type": "code",
   "execution_count": 13,
   "id": "ce189ac5-0ded-4234-b6fb-cc31bd33667f",
   "metadata": {},
   "outputs": [
    {
     "name": "stdout",
     "output_type": "stream",
     "text": [
      "   *\n",
      "  ***\n",
      " *****\n",
      "*******\n",
      " *****\n",
      "  ***\n",
      "   *\n"
     ]
    }
   ],
   "source": [
    "def print_diamond(rows):\n",
    "    # 上半部分\n",
    "    for i in range(1, rows, 2):\n",
    "        spaces = \" \" * ((rows - i) // 2)\n",
    "        stars = \"*\" * i\n",
    "        print(spaces + stars)\n",
    "\n",
    "    # 下半部分\n",
    "    for i in range(rows, 0, -2):\n",
    "        spaces = \" \" * ((rows - i) // 2)\n",
    "        stars = \"*\" * i\n",
    "        print(spaces + stars)\n",
    "\n",
    "# 设置行数，可以根据需要调整\n",
    "rows = 7\n",
    "print_diamond(rows)"
   ]
  },
  {
   "cell_type": "code",
   "execution_count": 15,
   "id": "a1596bdb-0595-4edc-889a-e3ae2f86ead5",
   "metadata": {},
   "outputs": [
    {
     "name": "stdout",
     "output_type": "stream",
     "text": [
      "1! + 2! + 3! + ... + 20! = 2561327494111820313\n"
     ]
    }
   ],
   "source": [
    "n = 0\n",
    "s = 0\n",
    "t = 1\n",
    "for n in range(1,21):\n",
    "    t *= n\n",
    "    s += t\n",
    "print ('1! + 2! + 3! + ... + 20! = %d' % s)"
   ]
  },
  {
   "cell_type": "code",
   "execution_count": null,
   "id": "9a496554-8caa-482d-afa0-65ef5515912b",
   "metadata": {},
   "outputs": [],
   "source": []
  }
 ],
 "metadata": {
  "kernelspec": {
   "display_name": "Python 3 (ipykernel)",
   "language": "python",
   "name": "python3"
  },
  "language_info": {
   "codemirror_mode": {
    "name": "ipython",
    "version": 3
   },
   "file_extension": ".py",
   "mimetype": "text/x-python",
   "name": "python",
   "nbconvert_exporter": "python",
   "pygments_lexer": "ipython3",
   "version": "3.12.4"
  }
 },
 "nbformat": 4,
 "nbformat_minor": 5
}
